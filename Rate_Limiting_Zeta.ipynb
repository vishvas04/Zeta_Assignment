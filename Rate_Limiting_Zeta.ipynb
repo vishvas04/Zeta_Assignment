{
 "cells": [
  {
   "cell_type": "code",
   "execution_count": 1,
   "id": "fb66818e",
   "metadata": {},
   "outputs": [
    {
     "name": "stdout",
     "output_type": "stream",
     "text": [
      "True\n",
      "True\n",
      "True\n",
      "True\n",
      "True\n",
      "False\n"
     ]
    }
   ],
   "source": [
    "from time import time\n",
    "\n",
    "class RateLimiter:\n",
    "    def __init__(self, max_requests, window):\n",
    "        self.max_requests = max_requests \n",
    "        self.window = window             \n",
    "        self.user_requests = {}\n",
    "\n",
    "    def allow_request(self, user_id):\n",
    "        current_time = int(time())\n",
    "        if user_id not in self.user_requests:\n",
    "            self.user_requests[user_id] = {'count': 1, 'window_start': current_time}\n",
    "            return True\n",
    "        else:\n",
    "            record = self.user_requests[user_id]\n",
    "            if current_time - record['window_start'] >= self.window:\n",
    "                record['count'] = 1\n",
    "                record['window_start'] = current_time\n",
    "                return True\n",
    "            elif record['count'] < self.max_requests:\n",
    "                record['count'] += 1\n",
    "                return True\n",
    "            else:\n",
    "                return False\n",
    "\n",
    "\n",
    "limiter = RateLimiter(max_requests=5, window=1)\n",
    "user_id = \"user123\"\n",
    "\n",
    "for _ in range(6):\n",
    "    print(limiter.allow_request(user_id))  "
   ]
  }
 ],
 "metadata": {
  "kernelspec": {
   "display_name": "Python 3 (ipykernel)",
   "language": "python",
   "name": "python3"
  },
  "language_info": {
   "codemirror_mode": {
    "name": "ipython",
    "version": 3
   },
   "file_extension": ".py",
   "mimetype": "text/x-python",
   "name": "python",
   "nbconvert_exporter": "python",
   "pygments_lexer": "ipython3",
   "version": "3.9.12"
  }
 },
 "nbformat": 4,
 "nbformat_minor": 5
}
